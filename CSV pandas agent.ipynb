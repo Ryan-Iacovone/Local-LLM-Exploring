{
 "cells": [
  {
   "cell_type": "markdown",
   "metadata": {},
   "source": [
    "# local implementation with ollama"
   ]
  },
  {
   "cell_type": "code",
   "execution_count": null,
   "metadata": {},
   "outputs": [],
   "source": [
    "import pandas as pd \n",
    "from pandasai import SmartDataframe\n",
    "from pandasai.llm.local_llm import LocalLLM\n",
    "import streamlit\n",
    "\n",
    "ollama_llm = LocalLLM(api_base=\"http://localhost:11434/v1\", model=\"llama3\")\n",
    "\n",
    "monster = pd.read_csv(r'Context Data\\Complete_Monster_List_csv.csv', encoding=\"ANSI\")"
   ]
  },
  {
   "cell_type": "code",
   "execution_count": null,
   "metadata": {},
   "outputs": [],
   "source": [
    "df = SmartDataframe(monster, config={\"llm\": ollama_llm})"
   ]
  },
  {
   "cell_type": "code",
   "execution_count": null,
   "metadata": {},
   "outputs": [],
   "source": [
    "prompt = \"how many teen books are there?\"\n",
    "\n",
    "df.chat(prompt)"
   ]
  },
  {
   "cell_type": "markdown",
   "metadata": {},
   "source": [
    "# Using pandasai propriertary llm  "
   ]
  },
  {
   "cell_type": "code",
   "execution_count": null,
   "metadata": {},
   "outputs": [],
   "source": [
    "import os\n",
    "import pandas as pd\n",
    "from pandasai import Agent\n",
    "\n",
    "# Sample DataFrame\n",
    "sales_by_country = pd.DataFrame({\n",
    "    \"country\": [\"United States\", \"United Kingdom\", \"France\", \"Germany\", \"Italy\", \"Spain\", \"Canada\", \"Australia\", \"Japan\", \"China\"],\n",
    "    \"sales\": [5000, 3200, 2900, 4100, 2300, 2100, 2500, 2600, 4500, 7000]\n",
    "})\n",
    "\n",
    "# By default, unless you choose a different LLM, it will use BambooLLM.\n",
    "# You can get your free API key signing up at https://pandabi.ai (you can also configure it in your .env file)\n",
    "os.environ[\"PANDASAI_API_KEY\"] = \"$2a$10$UZ45b2ITCPnX2IjzJ8ck7uuNzmIla5.MkNqxA3zKrtss8hNTd1iP6\"\n",
    "\n",
    "agent = Agent(sales_by_country)\n",
    "agent.chat('Which are the top 5 countries by sales?')"
   ]
  },
  {
   "cell_type": "code",
   "execution_count": null,
   "metadata": {},
   "outputs": [],
   "source": [
    "import os\n",
    "import pandas as pd\n",
    "from pandasai import Agent\n",
    "\n",
    "# DataFrame\n",
    "monster = pd.read_csv(r'Context Data\\Complete_Monster_List_csv.csv', encoding=\"ANSI\")\n",
    "\n",
    "# By default, unless you choose a different LLM, it will use BambooLLM.\n",
    "# You can get your free API key signing up at https://pandabi.ai (you can also configure it in your .env file)\n",
    "os.environ[\"PANDASAI_API_KEY\"] = \"$2a$10$UZ45b2ITCPnX2IjzJ8ck7uuNzmIla5.MkNqxA3zKrtss8hNTd1iP6\"\n",
    "\n",
    "agent = Agent(monster)\n",
    "agent.chat('Reccomend some good mystery books')"
   ]
  },
  {
   "cell_type": "markdown",
   "metadata": {},
   "source": [
    "## Verifying the results - my own anaylsis "
   ]
  },
  {
   "cell_type": "code",
   "execution_count": null,
   "metadata": {},
   "outputs": [],
   "source": [
    "monster[monster['Audiance'] == 'Teen']\n",
    "len(monster)"
   ]
  }
 ],
 "metadata": {
  "language_info": {
   "name": "python"
  }
 },
 "nbformat": 4,
 "nbformat_minor": 2
}
